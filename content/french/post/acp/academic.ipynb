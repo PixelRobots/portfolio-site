{
 "cells": [
  {
   "cell_type": "markdown",
   "metadata": {},
   "source": [
    "# L'Analyse en Composante Principale (ACP)\n",
    "## Intuition\n",
    "L'un des clés essentiels au succès d'un projet de data science est de comprendre le problème qu'on veut bien résoudre. La plupart des data scientists affirment que plus de 70% du temps qu'ils consacrent à la résolution d'un problème donné est consacré au nettoyage de la base de donnée et à la compréhension du problème. Donc avant même d'appliquer n'importe quel algorithme de Machine Learning il faut comprendre pourquoi on fait ce choix et quels sont les bénéfices pour la résolution du problème.   \n",
    "L'analyse en composante principale est une l'un des outils qui font partie de l'arsenal des professionnels en science des données car il permet (1) de **résumer** et (2) **réduire** la dimension d'un jeu de données. Que faites-vous si vous avez un jeu de données contenant 10000 individus et 30 variables quantitatives? On peut essayer de calculer manuellement la moyenne, les écarts-types pour essayer de comprendre le jeu de données mais cela est long est fastidieux et on ne pourrait pas vraiment résumer l'information. C'est alors que vient l'ACP.  \n",
    "Dans cet article, je vous épargnes les détails techniques de l'ACP que vous pouvez trouver partout sur Internet. A ce sujet je vous conseille fortement les vidéos de [François Husson](https://www.youtube.com/channel/UCyz4M1pwJBNfjMFaUCHCNUQ) qui sont sur Youtube et qui sont d'une grande qualité. Lui et l'équipe d'AgroCampus Ouest sont les auteurs du package (et même de la base de donnée que j'ai eu en suivant son MOOC sur FUN-MOOC) que je vais utiliser pour la réalisation de ce projet. \n",
    "\n",
    "### Les scripts ainsi que le notebook sont disponibles dans ce [répertoire GitHub](https://github.com/agailloty/projets). "
   ]
  },
  {
   "cell_type": "markdown",
   "metadata": {},
   "source": [
    "## Chargement de la base"
   ]
  },
  {
   "cell_type": "markdown",
   "metadata": {},
   "source": [
    "Je travaillerai avec le langage R et plus précisément avec le package [FactoMiner](http://factominer.free.fr/index_fr.html). Comme j'aime bien faire de beaux graphiques, j'utiliserai les packages `ggplot2` et `autoplot` pour représenter les graphiques d'interprétations. Ce projet est destiné à offrir un pipeline cohérent pour réaliser vos études statistiques multivariées."
   ]
  },
  {
   "cell_type": "code",
   "execution_count": null,
   "metadata": {},
   "outputs": [],
   "source": [
    "library(FactoMineR)\n",
    "library(ggplot2)\n",
    "library(ggfortify)"
   ]
  },
  {
   "cell_type": "markdown",
   "metadata": {},
   "source": [
    "La base de donnée sur laquelle je vais travailler concerne la fertilité moyenne des femmes dans 39 pays européens par catégorie d'âge: les 15-19 ans, 20-24 ans ..."
   ]
  },
  {
   "cell_type": "code",
   "execution_count": 2,
   "metadata": {},
   "outputs": [],
   "source": [
    "fertility <- read.csv(\"data_PCA_Fertility.csv\", sep= ';', row.names=1) # "
   ]
  },
  {
   "cell_type": "code",
   "execution_count": 3,
   "metadata": {},
   "outputs": [
    {
     "data": {
      "text/html": [
       "<table>\n",
       "<thead><tr><th></th><th scope=col>X15.19</th><th scope=col>X20.24</th><th scope=col>X25.29</th><th scope=col>X30.34</th><th scope=col>X35.39</th><th scope=col>X40.et..</th><th scope=col>Area</th></tr></thead>\n",
       "<tbody>\n",
       "\t<tr><th scope=row>Albania</th><td>20.8 </td><td>107.1</td><td>126.7</td><td> 72.3</td><td>24.4 </td><td>5.5  </td><td>South</td></tr>\n",
       "\t<tr><th scope=row>Austria</th><td> 8.6 </td><td> 44.5</td><td> 89.2</td><td> 94.6</td><td>46.8 </td><td>9.6  </td><td>West </td></tr>\n",
       "\t<tr><th scope=row>Belarus</th><td>21.4 </td><td> 90.4</td><td>106.7</td><td> 67.6</td><td>26.0 </td><td>4.4  </td><td>East </td></tr>\n",
       "\t<tr><th scope=row>Belgium</th><td> 9.0 </td><td> 52.6</td><td>127.0</td><td>116.6</td><td>48.3 </td><td>9.6  </td><td>West </td></tr>\n",
       "\t<tr><th scope=row>Bosnia and Herzegovina</th><td>11.0 </td><td> 52.5</td><td> 91.8</td><td> 69.7</td><td>25.7 </td><td>4.7  </td><td>South</td></tr>\n",
       "\t<tr><th scope=row>Bulgaria</th><td>42.1 </td><td> 71.9</td><td> 90.9</td><td> 67.1</td><td>27.2 </td><td>4.7  </td><td>East </td></tr>\n",
       "</tbody>\n",
       "</table>\n"
      ],
      "text/latex": [
       "\\begin{tabular}{r|lllllll}\n",
       "  & X15.19 & X20.24 & X25.29 & X30.34 & X35.39 & X40.et.. & Area\\\\\n",
       "\\hline\n",
       "\tAlbania & 20.8  & 107.1 & 126.7 &  72.3 & 24.4  & 5.5   & South\\\\\n",
       "\tAustria &  8.6  &  44.5 &  89.2 &  94.6 & 46.8  & 9.6   & West \\\\\n",
       "\tBelarus & 21.4  &  90.4 & 106.7 &  67.6 & 26.0  & 4.4   & East \\\\\n",
       "\tBelgium &  9.0  &  52.6 & 127.0 & 116.6 & 48.3  & 9.6   & West \\\\\n",
       "\tBosnia and Herzegovina & 11.0  &  52.5 &  91.8 &  69.7 & 25.7  & 4.7   & South\\\\\n",
       "\tBulgaria & 42.1  &  71.9 &  90.9 &  67.1 & 27.2  & 4.7   & East \\\\\n",
       "\\end{tabular}\n"
      ],
      "text/markdown": [
       "\n",
       "| <!--/--> | X15.19 | X20.24 | X25.29 | X30.34 | X35.39 | X40.et.. | Area |\n",
       "|---|---|---|---|---|---|---|---|\n",
       "| Albania | 20.8  | 107.1 | 126.7 |  72.3 | 24.4  | 5.5   | South |\n",
       "| Austria |  8.6  |  44.5 |  89.2 |  94.6 | 46.8  | 9.6   | West  |\n",
       "| Belarus | 21.4  |  90.4 | 106.7 |  67.6 | 26.0  | 4.4   | East  |\n",
       "| Belgium |  9.0  |  52.6 | 127.0 | 116.6 | 48.3  | 9.6   | West  |\n",
       "| Bosnia and Herzegovina | 11.0  |  52.5 |  91.8 |  69.7 | 25.7  | 4.7   | South |\n",
       "| Bulgaria | 42.1  |  71.9 |  90.9 |  67.1 | 27.2  | 4.7   | East  |\n",
       "\n"
      ],
      "text/plain": [
       "                       X15.19 X20.24 X25.29 X30.34 X35.39 X40.et.. Area \n",
       "Albania                20.8   107.1  126.7   72.3  24.4   5.5      South\n",
       "Austria                 8.6    44.5   89.2   94.6  46.8   9.6      West \n",
       "Belarus                21.4    90.4  106.7   67.6  26.0   4.4      East \n",
       "Belgium                 9.0    52.6  127.0  116.6  48.3   9.6      West \n",
       "Bosnia and Herzegovina 11.0    52.5   91.8   69.7  25.7   4.7      South\n",
       "Bulgaria               42.1    71.9   90.9   67.1  27.2   4.7      East "
      ]
     },
     "metadata": {},
     "output_type": "display_data"
    }
   ],
   "source": [
    "# Regardons comment se présente la base\n",
    "head(fertility)"
   ]
  },
  {
   "cell_type": "code",
   "execution_count": 4,
   "metadata": {},
   "outputs": [
    {
     "data": {
      "text/html": [
       "<ol class=list-inline>\n",
       "\t<li>39</li>\n",
       "\t<li>7</li>\n",
       "</ol>\n"
      ],
      "text/latex": [
       "\\begin{enumerate*}\n",
       "\\item 39\n",
       "\\item 7\n",
       "\\end{enumerate*}\n"
      ],
      "text/markdown": [
       "1. 39\n",
       "2. 7\n",
       "\n",
       "\n"
      ],
      "text/plain": [
       "[1] 39  7"
      ]
     },
     "metadata": {},
     "output_type": "display_data"
    }
   ],
   "source": [
    "dim(fertility)"
   ]
  },
  {
   "cell_type": "markdown",
   "metadata": {},
   "source": [
    "Nous avons 39 individus et 7 variables."
   ]
  },
  {
   "cell_type": "markdown",
   "metadata": {},
   "source": [
    "# Analyse exploratoire "
   ]
  },
  {
   "cell_type": "markdown",
   "metadata": {},
   "source": [
    "## Statistiques descriptives"
   ]
  },
  {
   "cell_type": "markdown",
   "metadata": {},
   "source": [
    "Cette partie est pour explorer la base de données afin de comprendre de quoi il est question, de la nettoyer si possible et la visualiser."
   ]
  },
  {
   "cell_type": "code",
   "execution_count": 5,
   "metadata": {},
   "outputs": [
    {
     "data": {
      "text/html": [
       "<table>\n",
       "<thead><tr><th></th><th scope=col>Mean</th><th scope=col>Std.Dev</th><th scope=col>Min</th><th scope=col>Q1</th><th scope=col>Median</th><th scope=col>Q3</th><th scope=col>Max</th><th scope=col>MAD</th><th scope=col>IQR</th><th scope=col>CV</th><th scope=col>Skewness</th><th scope=col>SE.Skewness</th><th scope=col>Kurtosis</th><th scope=col>N.Valid</th><th scope=col>Pct.Valid</th></tr></thead>\n",
       "<tbody>\n",
       "\t<tr><th scope=row>X15.19</th><td>14.333333  </td><td> 8.913365  </td><td> 3.5       </td><td> 8.0       </td><td>12.0       </td><td> 19.2      </td><td> 42.1      </td><td> 8.30256   </td><td>11.05      </td><td>0.6218627  </td><td>1.19413200 </td><td>0.3782198  </td><td> 1.17945591</td><td>39         </td><td>100        </td></tr>\n",
       "\t<tr><th scope=row>X20.24</th><td>55.348718  </td><td>18.676243  </td><td>29.2       </td><td>41.3       </td><td>52.5       </td><td> 68.4      </td><td>107.1      </td><td>19.12554   </td><td>25.30      </td><td>0.3374286  </td><td>0.81770434 </td><td>0.3782198  </td><td> 0.01278804</td><td>39         </td><td>100        </td></tr>\n",
       "\t<tr><th scope=row>X25.29</th><td>97.271795  </td><td>17.018395  </td><td>57.6       </td><td>85.2       </td><td>93.8       </td><td>108.4      </td><td>132.1      </td><td>19.12554   </td><td>22.15      </td><td>0.1749571  </td><td>0.02981643 </td><td>0.3782198  </td><td>-0.61042969</td><td>39         </td><td>100        </td></tr>\n",
       "\t<tr><th scope=row>X30.34</th><td>93.843590  </td><td>22.795196  </td><td>46.1       </td><td>76.5       </td><td>91.4       </td><td>112.3      </td><td>136.7      </td><td>28.02114   </td><td>34.75      </td><td>0.2429063  </td><td>0.17612427 </td><td>0.3782198  </td><td>-0.91437019</td><td>39         </td><td>100        </td></tr>\n",
       "\t<tr><th scope=row>X35.39</th><td>45.197436  </td><td>16.075750  </td><td>19.9       </td><td>32.7       </td><td>43.4       </td><td> 57.3      </td><td> 97.5      </td><td>18.38424   </td><td>24.00      </td><td>0.3556784  </td><td>0.75110236 </td><td>0.3782198  </td><td> 0.78358398</td><td>39         </td><td>100        </td></tr>\n",
       "\t<tr><th scope=row>X40.et..</th><td> 9.533333  </td><td> 4.191428  </td><td> 3.8       </td><td> 6.6       </td><td> 9.5       </td><td> 12.5      </td><td> 23.8      </td><td> 4.29954   </td><td> 5.45      </td><td>0.4396603  </td><td>0.99832021 </td><td>0.3782198  </td><td> 1.32437008</td><td>39         </td><td>100        </td></tr>\n",
       "</tbody>\n",
       "</table>\n"
      ],
      "text/latex": [
       "\\begin{tabular}{r|lllllllllllllll}\n",
       "  & Mean & Std.Dev & Min & Q1 & Median & Q3 & Max & MAD & IQR & CV & Skewness & SE.Skewness & Kurtosis & N.Valid & Pct.Valid\\\\\n",
       "\\hline\n",
       "\tX15.19 & 14.333333   &  8.913365   &  3.5        &  8.0        & 12.0        &  19.2       &  42.1       &  8.30256    & 11.05       & 0.6218627   & 1.19413200  & 0.3782198   &  1.17945591 & 39          & 100        \\\\\n",
       "\tX20.24 & 55.348718   & 18.676243   & 29.2        & 41.3        & 52.5        &  68.4       & 107.1       & 19.12554    & 25.30       & 0.3374286   & 0.81770434  & 0.3782198   &  0.01278804 & 39          & 100        \\\\\n",
       "\tX25.29 & 97.271795   & 17.018395   & 57.6        & 85.2        & 93.8        & 108.4       & 132.1       & 19.12554    & 22.15       & 0.1749571   & 0.02981643  & 0.3782198   & -0.61042969 & 39          & 100        \\\\\n",
       "\tX30.34 & 93.843590   & 22.795196   & 46.1        & 76.5        & 91.4        & 112.3       & 136.7       & 28.02114    & 34.75       & 0.2429063   & 0.17612427  & 0.3782198   & -0.91437019 & 39          & 100        \\\\\n",
       "\tX35.39 & 45.197436   & 16.075750   & 19.9        & 32.7        & 43.4        &  57.3       &  97.5       & 18.38424    & 24.00       & 0.3556784   & 0.75110236  & 0.3782198   &  0.78358398 & 39          & 100        \\\\\n",
       "\tX40.et.. &  9.533333   &  4.191428   &  3.8        &  6.6        &  9.5        &  12.5       &  23.8       &  4.29954    &  5.45       & 0.4396603   & 0.99832021  & 0.3782198   &  1.32437008 & 39          & 100        \\\\\n",
       "\\end{tabular}\n"
      ],
      "text/markdown": [
       "\n",
       "| <!--/--> | Mean | Std.Dev | Min | Q1 | Median | Q3 | Max | MAD | IQR | CV | Skewness | SE.Skewness | Kurtosis | N.Valid | Pct.Valid |\n",
       "|---|---|---|---|---|---|---|---|---|---|---|---|---|---|---|---|\n",
       "| X15.19 | 14.333333   |  8.913365   |  3.5        |  8.0        | 12.0        |  19.2       |  42.1       |  8.30256    | 11.05       | 0.6218627   | 1.19413200  | 0.3782198   |  1.17945591 | 39          | 100         |\n",
       "| X20.24 | 55.348718   | 18.676243   | 29.2        | 41.3        | 52.5        |  68.4       | 107.1       | 19.12554    | 25.30       | 0.3374286   | 0.81770434  | 0.3782198   |  0.01278804 | 39          | 100         |\n",
       "| X25.29 | 97.271795   | 17.018395   | 57.6        | 85.2        | 93.8        | 108.4       | 132.1       | 19.12554    | 22.15       | 0.1749571   | 0.02981643  | 0.3782198   | -0.61042969 | 39          | 100         |\n",
       "| X30.34 | 93.843590   | 22.795196   | 46.1        | 76.5        | 91.4        | 112.3       | 136.7       | 28.02114    | 34.75       | 0.2429063   | 0.17612427  | 0.3782198   | -0.91437019 | 39          | 100         |\n",
       "| X35.39 | 45.197436   | 16.075750   | 19.9        | 32.7        | 43.4        |  57.3       |  97.5       | 18.38424    | 24.00       | 0.3556784   | 0.75110236  | 0.3782198   |  0.78358398 | 39          | 100         |\n",
       "| X40.et.. |  9.533333   |  4.191428   |  3.8        |  6.6        |  9.5        |  12.5       |  23.8       |  4.29954    |  5.45       | 0.4396603   | 0.99832021  | 0.3782198   |  1.32437008 | 39          | 100         |\n",
       "\n"
      ],
      "text/plain": [
       "         Mean      Std.Dev   Min  Q1   Median Q3    Max   MAD      IQR  \n",
       "X15.19   14.333333  8.913365  3.5  8.0 12.0    19.2  42.1  8.30256 11.05\n",
       "X20.24   55.348718 18.676243 29.2 41.3 52.5    68.4 107.1 19.12554 25.30\n",
       "X25.29   97.271795 17.018395 57.6 85.2 93.8   108.4 132.1 19.12554 22.15\n",
       "X30.34   93.843590 22.795196 46.1 76.5 91.4   112.3 136.7 28.02114 34.75\n",
       "X35.39   45.197436 16.075750 19.9 32.7 43.4    57.3  97.5 18.38424 24.00\n",
       "X40.et..  9.533333  4.191428  3.8  6.6  9.5    12.5  23.8  4.29954  5.45\n",
       "         CV        Skewness   SE.Skewness Kurtosis    N.Valid Pct.Valid\n",
       "X15.19   0.6218627 1.19413200 0.3782198    1.17945591 39      100      \n",
       "X20.24   0.3374286 0.81770434 0.3782198    0.01278804 39      100      \n",
       "X25.29   0.1749571 0.02981643 0.3782198   -0.61042969 39      100      \n",
       "X30.34   0.2429063 0.17612427 0.3782198   -0.91437019 39      100      \n",
       "X35.39   0.3556784 0.75110236 0.3782198    0.78358398 39      100      \n",
       "X40.et.. 0.4396603 0.99832021 0.3782198    1.32437008 39      100      "
      ]
     },
     "metadata": {},
     "output_type": "display_data"
    }
   ],
   "source": [
    "summarytools::descr(fertility, transpose = T)"
   ]
  },
  {
   "cell_type": "markdown",
   "metadata": {},
   "source": [
    "La fonction `descr` du package `summarytools` nous affiche des élements utiles concernant notre base de données. Ce qu'on remarque dans un premier c'est les deux dernières colonnes qui nous indique le nombre de données valides. Heureusement pour nous aucune donnée n'est manquante, cela nous épargne du temps.  \n",
    "Tout à gauche les 5 premières colonnes nous présentent les statistiques descriptives du jeu de données. On observe par exemple que la moyenne de la fertilité des femmes de plus de 40 ans est la plus faible, suivie de celle des 15-19 ans. L'écart-type de ces moyenne est reltivement élevé pour les femmes de 30-34, ce qui explique qu'il y a une assez forte variance entre les pays.\n",
    "## Données groupées\n",
    "Groupons maintenant ces données par région (Area) pour voir les moyennes des variables mais par régions. "
   ]
  },
  {
   "cell_type": "code",
   "execution_count": null,
   "metadata": {},
   "outputs": [],
   "source": [
    "library(tidyverse)"
   ]
  },
  {
   "cell_type": "code",
   "execution_count": 7,
   "metadata": {},
   "outputs": [
    {
     "data": {
      "text/html": [
       "<table>\n",
       "<thead><tr><th scope=col>Area</th><th scope=col>X15.19</th><th scope=col>X20.24</th><th scope=col>X25.29</th><th scope=col>X30.34</th><th scope=col>X35.39</th><th scope=col>X40.et..</th></tr></thead>\n",
       "<tbody>\n",
       "\t<tr><td>East     </td><td>24.760000</td><td>68.12000 </td><td> 90.9400 </td><td> 70.8400 </td><td>30.18000 </td><td> 5.76000 </td></tr>\n",
       "\t<tr><td>North    </td><td>10.710000</td><td>53.11000 </td><td>107.3900 </td><td>111.6700 </td><td>58.68000 </td><td>13.05000 </td></tr>\n",
       "\t<tr><td>South    </td><td>12.850000</td><td>53.76667 </td><td> 92.3750 </td><td> 86.9500 </td><td>41.14167 </td><td> 8.87500 </td></tr>\n",
       "\t<tr><td>West     </td><td> 7.157143</td><td>43.01429 </td><td>100.2571 </td><td>113.0571 </td><td>54.34286 </td><td>11.02857 </td></tr>\n",
       "</tbody>\n",
       "</table>\n"
      ],
      "text/latex": [
       "\\begin{tabular}{r|lllllll}\n",
       " Area & X15.19 & X20.24 & X25.29 & X30.34 & X35.39 & X40.et..\\\\\n",
       "\\hline\n",
       "\t East      & 24.760000 & 68.12000  &  90.9400  &  70.8400  & 30.18000  &  5.76000 \\\\\n",
       "\t North     & 10.710000 & 53.11000  & 107.3900  & 111.6700  & 58.68000  & 13.05000 \\\\\n",
       "\t South     & 12.850000 & 53.76667  &  92.3750  &  86.9500  & 41.14167  &  8.87500 \\\\\n",
       "\t West      &  7.157143 & 43.01429  & 100.2571  & 113.0571  & 54.34286  & 11.02857 \\\\\n",
       "\\end{tabular}\n"
      ],
      "text/markdown": [
       "\n",
       "| Area | X15.19 | X20.24 | X25.29 | X30.34 | X35.39 | X40.et.. |\n",
       "|---|---|---|---|---|---|---|\n",
       "| East      | 24.760000 | 68.12000  |  90.9400  |  70.8400  | 30.18000  |  5.76000  |\n",
       "| North     | 10.710000 | 53.11000  | 107.3900  | 111.6700  | 58.68000  | 13.05000  |\n",
       "| South     | 12.850000 | 53.76667  |  92.3750  |  86.9500  | 41.14167  |  8.87500  |\n",
       "| West      |  7.157143 | 43.01429  | 100.2571  | 113.0571  | 54.34286  | 11.02857  |\n",
       "\n"
      ],
      "text/plain": [
       "  Area  X15.19    X20.24   X25.29   X30.34   X35.39   X40.et..\n",
       "1 East  24.760000 68.12000  90.9400  70.8400 30.18000  5.76000\n",
       "2 North 10.710000 53.11000 107.3900 111.6700 58.68000 13.05000\n",
       "3 South 12.850000 53.76667  92.3750  86.9500 41.14167  8.87500\n",
       "4 West   7.157143 43.01429 100.2571 113.0571 54.34286 11.02857"
      ]
     },
     "metadata": {},
     "output_type": "display_data"
    }
   ],
   "source": [
    "group_by(fertility, Area) %>% summarise_all(mean)"
   ]
  },
  {
   "cell_type": "markdown",
   "metadata": {},
   "source": [
    "Ici nous avons les moyennes par régions. L'indication qu'on avait eu de la variance des 30-34 se confirme ici car on observe que la moyenne des fécondités varie fortement par région. Les 15-19 ont une plus grande fertilité en Europe de l'Est que dans les autres régions."
   ]
  },
  {
   "cell_type": "markdown",
   "metadata": {},
   "source": [
    "# Visualisation"
   ]
  },
  {
   "cell_type": "code",
   "execution_count": 8,
   "metadata": {},
   "outputs": [],
   "source": [
    "options(repr.plot.res = 300, repr.plot.width = 6, repr.plot.height = 3)"
   ]
  },
  {
   "cell_type": "markdown",
   "metadata": {},
   "source": [
    "## Fertilité des 15-19 par pays"
   ]
  },
  {
   "cell_type": "code",
   "execution_count": 9,
   "metadata": {},
   "outputs": [
    {
     "data": {
      "text/html": [
       "<ol class=list-inline>\n",
       "\t<li>'Albania'</li>\n",
       "\t<li>'Austria'</li>\n",
       "\t<li>'Belarus'</li>\n",
       "\t<li>'Belgium'</li>\n",
       "\t<li>'Bosnia and Herzegovina'</li>\n",
       "\t<li>'Bulgaria'</li>\n",
       "\t<li>'Croatia'</li>\n",
       "\t<li>'Denmark'</li>\n",
       "\t<li>'Estonia'</li>\n",
       "\t<li>'Finland'</li>\n",
       "\t<li>'France'</li>\n",
       "\t<li>'Germany'</li>\n",
       "\t<li>'Greece'</li>\n",
       "\t<li>'Hungary'</li>\n",
       "\t<li>'Iceland'</li>\n",
       "\t<li>'Ireland'</li>\n",
       "\t<li>'Italy'</li>\n",
       "\t<li>'Latvia'</li>\n",
       "\t<li>'Lithuania'</li>\n",
       "\t<li>'luxembourg'</li>\n",
       "\t<li>'Macedonia'</li>\n",
       "\t<li>'Malta'</li>\n",
       "\t<li>'Moldova'</li>\n",
       "\t<li>'Montenegro'</li>\n",
       "\t<li>'Netherlands'</li>\n",
       "\t<li>'Norway'</li>\n",
       "\t<li>'Poland'</li>\n",
       "\t<li>'Portugal'</li>\n",
       "\t<li>'Rep. Czech'</li>\n",
       "\t<li>'Romania'</li>\n",
       "\t<li>'Russia'</li>\n",
       "\t<li>'Serbia'</li>\n",
       "\t<li>'Slovakia'</li>\n",
       "\t<li>'Slovenia'</li>\n",
       "\t<li>'Spain'</li>\n",
       "\t<li>'Sweden'</li>\n",
       "\t<li>'Swiss'</li>\n",
       "\t<li>'UK'</li>\n",
       "\t<li>'Ukraine'</li>\n",
       "</ol>\n"
      ],
      "text/latex": [
       "\\begin{enumerate*}\n",
       "\\item 'Albania'\n",
       "\\item 'Austria'\n",
       "\\item 'Belarus'\n",
       "\\item 'Belgium'\n",
       "\\item 'Bosnia and Herzegovina'\n",
       "\\item 'Bulgaria'\n",
       "\\item 'Croatia'\n",
       "\\item 'Denmark'\n",
       "\\item 'Estonia'\n",
       "\\item 'Finland'\n",
       "\\item 'France'\n",
       "\\item 'Germany'\n",
       "\\item 'Greece'\n",
       "\\item 'Hungary'\n",
       "\\item 'Iceland'\n",
       "\\item 'Ireland'\n",
       "\\item 'Italy'\n",
       "\\item 'Latvia'\n",
       "\\item 'Lithuania'\n",
       "\\item 'luxembourg'\n",
       "\\item 'Macedonia'\n",
       "\\item 'Malta'\n",
       "\\item 'Moldova'\n",
       "\\item 'Montenegro'\n",
       "\\item 'Netherlands'\n",
       "\\item 'Norway'\n",
       "\\item 'Poland'\n",
       "\\item 'Portugal'\n",
       "\\item 'Rep. Czech'\n",
       "\\item 'Romania'\n",
       "\\item 'Russia'\n",
       "\\item 'Serbia'\n",
       "\\item 'Slovakia'\n",
       "\\item 'Slovenia'\n",
       "\\item 'Spain'\n",
       "\\item 'Sweden'\n",
       "\\item 'Swiss'\n",
       "\\item 'UK'\n",
       "\\item 'Ukraine'\n",
       "\\end{enumerate*}\n"
      ],
      "text/markdown": [
       "1. 'Albania'\n",
       "2. 'Austria'\n",
       "3. 'Belarus'\n",
       "4. 'Belgium'\n",
       "5. 'Bosnia and Herzegovina'\n",
       "6. 'Bulgaria'\n",
       "7. 'Croatia'\n",
       "8. 'Denmark'\n",
       "9. 'Estonia'\n",
       "10. 'Finland'\n",
       "11. 'France'\n",
       "12. 'Germany'\n",
       "13. 'Greece'\n",
       "14. 'Hungary'\n",
       "15. 'Iceland'\n",
       "16. 'Ireland'\n",
       "17. 'Italy'\n",
       "18. 'Latvia'\n",
       "19. 'Lithuania'\n",
       "20. 'luxembourg'\n",
       "21. 'Macedonia'\n",
       "22. 'Malta'\n",
       "23. 'Moldova'\n",
       "24. 'Montenegro'\n",
       "25. 'Netherlands'\n",
       "26. 'Norway'\n",
       "27. 'Poland'\n",
       "28. 'Portugal'\n",
       "29. 'Rep. Czech'\n",
       "30. 'Romania'\n",
       "31. 'Russia'\n",
       "32. 'Serbia'\n",
       "33. 'Slovakia'\n",
       "34. 'Slovenia'\n",
       "35. 'Spain'\n",
       "36. 'Sweden'\n",
       "37. 'Swiss'\n",
       "38. 'UK'\n",
       "39. 'Ukraine'\n",
       "\n",
       "\n"
      ],
      "text/plain": [
       " [1] \"Albania\"                \"Austria\"                \"Belarus\"               \n",
       " [4] \"Belgium\"                \"Bosnia and Herzegovina\" \"Bulgaria\"              \n",
       " [7] \"Croatia\"                \"Denmark\"                \"Estonia\"               \n",
       "[10] \"Finland\"                \"France\"                 \"Germany\"               \n",
       "[13] \"Greece\"                 \"Hungary\"                \"Iceland\"               \n",
       "[16] \"Ireland\"                \"Italy\"                  \"Latvia\"                \n",
       "[19] \"Lithuania\"              \"luxembourg\"             \"Macedonia\"             \n",
       "[22] \"Malta\"                  \"Moldova\"                \"Montenegro\"            \n",
       "[25] \"Netherlands\"            \"Norway\"                 \"Poland\"                \n",
       "[28] \"Portugal\"               \"Rep. Czech\"             \"Romania\"               \n",
       "[31] \"Russia\"                 \"Serbia\"                 \"Slovakia\"              \n",
       "[34] \"Slovenia\"               \"Spain\"                  \"Sweden\"                \n",
       "[37] \"Swiss\"                  \"UK\"                     \"Ukraine\"               "
      ]
     },
     "metadata": {},
     "output_type": "display_data"
    }
   ],
   "source": [
    "row.names(fertility)"
   ]
  },
  {
   "cell_type": "code",
   "execution_count": 10,
   "metadata": {},
   "outputs": [],
   "source": [
    "plot_fertility <- function(data, x=row.names(fertility), y, size_text = 3, ...){\n",
    "    ggplot(data, aes(x = x)) + \n",
    "    geom_text(aes(y=y, label = x), size = size_text) + theme_classic() + \n",
    "theme(axis.text.x = element_blank()) + xlab(\" \")\n",
    "}"
   ]
  },
  {
   "cell_type": "code",
   "execution_count": 11,
   "metadata": {},
   "outputs": [
    {
     "data": {
      "image/png": "[encoded data removed]",
      "text/plain": [
       "plot without title"
      ]
     },
     "metadata": {},
     "output_type": "display_data"
    }
   ],
   "source": [
    "plot_fertility(fertility, y = fertility$X15.19, size_text = 2.4) + \n",
    "ggtitle(\"Fertilité des 15-19 ans\") + ylab(\"Fertilité\")"
   ]
  },
  {
   "cell_type": "code",
   "execution_count": 12,
   "metadata": {},
   "outputs": [
    {
     "data": {
      "image/png": "[encoded data removed]",
      "text/plain": [
       "plot without title"
      ]
     },
     "metadata": {},
     "output_type": "display_data"
    }
   ],
   "source": [
    "plot_fertility(fertility, y = fertility$X20.24, size_text = 2.4) + \n",
    "ggtitle(\"Fertilité des 20-24 ans\") + ylab(\"Fertilité\")"
   ]
  },
  {
   "cell_type": "code",
   "execution_count": 13,
   "metadata": {},
   "outputs": [
    {
     "data": {
      "image/png": "[encoded data removed]",
      "text/plain": [
       "plot without title"
      ]
     },
     "metadata": {},
     "output_type": "display_data"
    }
   ],
   "source": [
    "plot_fertility(fertility, y = fertility$X25.29, size_text = 2.4) + \n",
    "ggtitle(\"Fertilité des 25-29 ans\") + ylab(\"Fertilité\")"
   ]
  },
  {
   "cell_type": "markdown",
   "metadata": {},
   "source": [
    "La France arrive en tête de la fertilité moyenne des 25-29 ans. "
   ]
  },
  {
   "cell_type": "markdown",
   "metadata": {},
   "source": [
    "## Corrélations"
   ]
  },
  {
   "cell_type": "code",
   "execution_count": 14,
   "metadata": {},
   "outputs": [
    {
     "name": "stderr",
     "output_type": "stream",
     "text": [
      "Warning message:\n",
      "\"package 'ggcorrplot' was built under R version 3.5.2\""
     ]
    }
   ],
   "source": [
    "library(ggcorrplot)"
   ]
  },
  {
   "cell_type": "code",
   "execution_count": 15,
   "metadata": {},
   "outputs": [
    {
     "data": {
      "image/png": "[encoded data removed]",
      "text/plain": [
       "plot without title"
      ]
     },
     "metadata": {},
     "output_type": "display_data"
    }
   ],
   "source": [
    "ggcorrplot(corr = cor(fertility[,-7]), hc.order = TRUE, type = \"lower\",\n",
    "   lab = TRUE)"
   ]
  },
  {
   "cell_type": "markdown",
   "metadata": {},
   "source": [
    "Ce graphique nous donne les corrélations entre les variables quantitatives du jeu de donnée. Par exemple la fertilité des 35-39 corrèle très fortement avec la fertilité des 40 ans et plus. "
   ]
  },
  {
   "cell_type": "markdown",
   "metadata": {},
   "source": [
    "# L'Analyse en composante principale\n",
    "Comme on le voit au travers de ces graphiques, certaines variables différencient bien les pays, d'autres pas vraiment. On ne peut juste avoir qu'un aperçu mais pas un résumé complet qui nous permet de comprendre les facteurs de différence entre les pays. l'ACP nous aidera à mieux représenter les individus"
   ]
  },
  {
   "cell_type": "markdown",
   "metadata": {},
   "source": [
    "## Construction"
   ]
  },
  {
   "cell_type": "code",
   "execution_count": 16,
   "metadata": {},
   "outputs": [],
   "source": [
    "acp <- PCA(X = fertility, scale.unit = T, quali.sup = 7)"
   ]
  },
  {
   "cell_type": "markdown",
   "metadata": {},
   "source": [
    "On vient de créer l'objet `acp` qui contient les résultats de l'analyse. Les arguments entrés dans la fonction PCA : X représente le jeu de donnée, scale.unit = T car on veut mettre à l'échelle toutes les variables et quali.sup = 7 c'est notre variable qualitative supplémentaire (7e colonne du jeu de données). "
   ]
  },
  {
   "cell_type": "code",
   "execution_count": 17,
   "metadata": {},
   "outputs": [
    {
     "data": {
      "text/html": [
       "<ol class=list-inline>\n",
       "\t<li>'eig'</li>\n",
       "\t<li>'var'</li>\n",
       "\t<li>'ind'</li>\n",
       "\t<li>'svd'</li>\n",
       "\t<li>'quali.sup'</li>\n",
       "\t<li>'call'</li>\n",
       "</ol>\n"
      ],
      "text/latex": [
       "\\begin{enumerate*}\n",
       "\\item 'eig'\n",
       "\\item 'var'\n",
       "\\item 'ind'\n",
       "\\item 'svd'\n",
       "\\item 'quali.sup'\n",
       "\\item 'call'\n",
       "\\end{enumerate*}\n"
      ],
      "text/markdown": [
       "1. 'eig'\n",
       "2. 'var'\n",
       "3. 'ind'\n",
       "4. 'svd'\n",
       "5. 'quali.sup'\n",
       "6. 'call'\n",
       "\n",
       "\n"
      ],
      "text/plain": [
       "[1] \"eig\"       \"var\"       \"ind\"       \"svd\"       \"quali.sup\" \"call\"     "
      ]
     },
     "metadata": {},
     "output_type": "display_data"
    }
   ],
   "source": [
    "# Voyons ce que contient l'objet acp\n",
    "names(acp)"
   ]
  },
  {
   "cell_type": "markdown",
   "metadata": {},
   "source": [
    "Nous allons d'abord voir un résumé."
   ]
  },
  {
   "cell_type": "code",
   "execution_count": 18,
   "metadata": {},
   "outputs": [
    {
     "name": "stdout",
     "output_type": "stream",
     "text": [
      "\n",
      "Call:\n",
      "PCA(X = fertility, scale.unit = T, quali.sup = 7) \n",
      "\n",
      "\n",
      "Eigenvalues\n",
      "                       Dim.1   Dim.2   Dim.3   Dim.4   Dim.5   Dim.6\n",
      "Variance               3.702   1.360   0.677   0.206   0.046   0.009\n",
      "% of var.             61.704  22.665  11.287   3.427   0.772   0.145\n",
      "Cumulative % of var.  61.704  84.369  95.656  99.084  99.855 100.000\n",
      "\n",
      "Individuals (the 10 first)\n",
      "                           Dist    Dim.1    ctr   cos2    Dim.2    ctr   cos2  \n",
      "Albania                |  3.883 | -2.879  5.742  0.550 |  2.435 11.182  0.393 |\n",
      "Austria                |  1.007 |  0.567  0.222  0.317 | -0.647  0.789  0.413 |\n",
      "Belarus                |  2.990 | -2.762  5.283  0.853 |  0.964  1.751  0.104 |\n",
      "Belgium                |  2.141 |  0.937  0.608  0.192 |  1.730  5.643  0.653 |\n",
      "Bosnia and Herzegovina |  2.073 | -1.425  1.406  0.472 | -0.670  0.846  0.104 |\n",
      "Bulgaria               |  3.870 | -3.359  7.816  0.754 | -0.338  0.216  0.008 |\n",
      "Croatia                |  0.651 | -0.244  0.041  0.140 |  0.043  0.004  0.004 |\n",
      "Denmark                |  2.352 |  1.989  2.740  0.715 |  0.774  1.131  0.108 |\n",
      "Estonia                |  0.537 | -0.086  0.005  0.026 |  0.086  0.014  0.026 |\n",
      "Finland                |  1.729 |  1.569  1.704  0.823 |  0.697  0.916  0.163 |\n",
      "\n",
      "Variables\n",
      "                          Dim.1    ctr   cos2    Dim.2    ctr   cos2  \n",
      "X15.19                 | -0.831 18.668  0.691 | -0.024  0.042  0.001 |\n",
      "X20.24                 | -0.728 14.319  0.530 |  0.533 20.899  0.284 |\n",
      "X25.29                 |  0.041  0.046  0.002 |  0.979 70.413  0.958 |\n",
      "X30.34                 |  0.908 22.280  0.825 |  0.342  8.591  0.117 |\n",
      "X35.39                 |  0.942 23.981  0.888 |  0.026  0.049  0.001 |\n",
      "X40.et..               |  0.876 20.705  0.767 | -0.008  0.005  0.000 |\n",
      "\n",
      "Supplementary categories\n",
      "                           Dist    Dim.1   cos2 v.test    Dim.2   cos2 v.test  \n",
      "East                   |  2.191 | -2.143  0.957 -4.032 | -0.338  0.024 -1.050 |\n",
      "North                  |  1.618 |  1.414  0.763  2.660 |  0.703  0.189  2.184 |\n",
      "South                  |  0.553 | -0.243  0.194 -0.519 | -0.375  0.460 -1.321 |\n",
      "West                   |  1.529 |  1.459  0.911  2.186 |  0.121  0.006  0.298 |\n"
     ]
    }
   ],
   "source": [
    "summary(acp, ncp = 2)"
   ]
  },
  {
   "cell_type": "markdown",
   "metadata": {},
   "source": [
    "Ici j'ai choisi de n'afficher que les détails des deux premières composantes principales (ncp =2).   \n",
    "Les eignevalues représentent les valeurs propres. La première composante résume à elle seule près de 62% de la variance des individus, ce qui fait si on ajoute à ce pourcentage de variance, le pourcentage de variance de la deuxième composante nous résumons 84% de l'information. C'est un excellent score. Donc au lieu de 6 variables explicatives, seules 2 variables synthétiques suffisent pour comprendre la variabilité des individus.  Nous verrons comment commenter ces variables. \n",
    "## Graphique des variables\n",
    "Représentons maintenant le graphique des variables sur les deux prémières composantes"
   ]
  },
  {
   "cell_type": "code",
   "execution_count": 19,
   "metadata": {},
   "outputs": [
    {
     "data": {
      "image/png": "[encoded data removed]",
      "text/plain": [
       "Plot with title \"Variables factor map (PCA)\""
      ]
     },
     "metadata": {},
     "output_type": "display_data"
    }
   ],
   "source": [
    "options(repr.plot.res = 150, repr.plot.width = 5, repr.plot.height = 5)\n",
    "plot.PCA(acp, choix = \"var\")"
   ]
  },
  {
   "cell_type": "markdown",
   "metadata": {},
   "source": [
    "### Comment lire ce graphique ?\n",
    "Les deux axes de ce graphique représentent les coefficients de corrélations qui vont de -1 à 1. Les flèches indiquent à la fois la corrélation de chacune des variables à l'axe donnée et la corrélation des variables entre elles. Comme nous l'avions déja anticipé dans la partie corrélation on voit que la fertilité des femmes 35-39 ans corrèle fortement avec celle des femmes de plus de 40 ans. Et il se trouve également que ce sont ces deux variables + la variable des 30-34 qui sont les plus corrélées positivement avec l'axe 1. La variable 15-19 quant à elle est très négativement corrélée avec cette prémière axe.   \n",
    "La variable X25-29 corrèle très fortement avec l'axe 2, les autres X20-24 et X30-34 corrèlent aussi positivement mais de manière modérée.\n",
    "## Graphique des individus"
   ]
  },
  {
   "cell_type": "code",
   "execution_count": 20,
   "metadata": {},
   "outputs": [
    {
     "data": {
      "image/png": "[encoded data removed]",
      "text/plain": [
       "Plot with title \"Individuals factor map (PCA)\""
      ]
     },
     "metadata": {},
     "output_type": "display_data"
    }
   ],
   "source": [
    "options(repr.plot.width = 7)\n",
    "plot.PCA(acp, choix= \"ind\")"
   ]
  },
  {
   "cell_type": "markdown",
   "metadata": {},
   "source": [
    "Ce graphique représente la distance des pays du barycentre. Un pays situé au centre de ce graphique a tendance à avoir des valeurs moyennes pour toutes les variables, inversement les pays qui s'éloignent du barycentre sont ont des valeurs éloignés de la moyenne et enfin la distance entre les pays traduit leur différence ou similitude. Pour voir un exemple, comparons les valeurs que prennent l'Espagne, l'Albanie et la Croatie"
   ]
  },
  {
   "cell_type": "code",
   "execution_count": 21,
   "metadata": {},
   "outputs": [
    {
     "data": {
      "text/html": [
       "<table>\n",
       "<thead><tr><th></th><th scope=col>X15.19</th><th scope=col>X20.24</th><th scope=col>X25.29</th><th scope=col>X30.34</th><th scope=col>X35.39</th><th scope=col>X40.et..</th><th scope=col>Area</th></tr></thead>\n",
       "<tbody>\n",
       "\t<tr><th scope=row>Spain</th><td> 8.9 </td><td> 29.2</td><td> 57.6</td><td>91.2 </td><td>62.4 </td><td>14.9 </td><td>South</td></tr>\n",
       "\t<tr><th scope=row>Albania</th><td>20.8 </td><td>107.1</td><td>126.7</td><td>72.3 </td><td>24.4 </td><td> 5.5 </td><td>South</td></tr>\n",
       "\t<tr><th scope=row>Croatia</th><td>11.4 </td><td> 54.6</td><td> 99.1</td><td>91.4 </td><td>39.9 </td><td> 7.8 </td><td>South</td></tr>\n",
       "</tbody>\n",
       "</table>\n"
      ],
      "text/latex": [
       "\\begin{tabular}{r|lllllll}\n",
       "  & X15.19 & X20.24 & X25.29 & X30.34 & X35.39 & X40.et.. & Area\\\\\n",
       "\\hline\n",
       "\tSpain &  8.9  &  29.2 &  57.6 & 91.2  & 62.4  & 14.9  & South\\\\\n",
       "\tAlbania & 20.8  & 107.1 & 126.7 & 72.3  & 24.4  &  5.5  & South\\\\\n",
       "\tCroatia & 11.4  &  54.6 &  99.1 & 91.4  & 39.9  &  7.8  & South\\\\\n",
       "\\end{tabular}\n"
      ],
      "text/markdown": [
       "\n",
       "| <!--/--> | X15.19 | X20.24 | X25.29 | X30.34 | X35.39 | X40.et.. | Area |\n",
       "|---|---|---|---|---|---|---|---|\n",
       "| Spain |  8.9  |  29.2 |  57.6 | 91.2  | 62.4  | 14.9  | South |\n",
       "| Albania | 20.8  | 107.1 | 126.7 | 72.3  | 24.4  |  5.5  | South |\n",
       "| Croatia | 11.4  |  54.6 |  99.1 | 91.4  | 39.9  |  7.8  | South |\n",
       "\n"
      ],
      "text/plain": [
       "        X15.19 X20.24 X25.29 X30.34 X35.39 X40.et.. Area \n",
       "Spain    8.9    29.2   57.6  91.2   62.4   14.9     South\n",
       "Albania 20.8   107.1  126.7  72.3   24.4    5.5     South\n",
       "Croatia 11.4    54.6   99.1  91.4   39.9    7.8     South"
      ]
     },
     "metadata": {},
     "output_type": "display_data"
    }
   ],
   "source": [
    "fertility[c(\"Spain\", \"Albania\", \"Croatia\"),]"
   ]
  },
  {
   "cell_type": "code",
   "execution_count": 22,
   "metadata": {},
   "outputs": [
    {
     "data": {
      "text/html": [
       "<table>\n",
       "<thead><tr><th scope=col>X15.19</th><th scope=col>X20.24</th><th scope=col>X25.29</th><th scope=col>X30.34</th><th scope=col>X35.39</th><th scope=col>X40.et..</th></tr></thead>\n",
       "<tbody>\n",
       "\t<tr><td>14.33333</td><td>55.34872</td><td>97.27179</td><td>93.84359</td><td>45.19744</td><td>9.533333</td></tr>\n",
       "</tbody>\n",
       "</table>\n"
      ],
      "text/latex": [
       "\\begin{tabular}{llllll}\n",
       " X15.19 & X20.24 & X25.29 & X30.34 & X35.39 & X40.et..\\\\\n",
       "\\hline\n",
       "\t 14.33333 & 55.34872 & 97.27179 & 93.84359 & 45.19744 & 9.533333\\\\\n",
       "\\end{tabular}\n"
      ],
      "text/markdown": [
       "\n",
       "| X15.19 | X20.24 | X25.29 | X30.34 | X35.39 | X40.et.. |\n",
       "|---|---|---|---|---|---|\n",
       "| 14.33333 | 55.34872 | 97.27179 | 93.84359 | 45.19744 | 9.533333 |\n",
       "\n"
      ],
      "text/plain": [
       "     X15.19   X20.24   X25.29   X30.34   X35.39   X40.et..\n",
       "[1,] 14.33333 55.34872 97.27179 93.84359 45.19744 9.533333"
      ]
     },
     "metadata": {},
     "output_type": "display_data"
    }
   ],
   "source": [
    "# Moyennes des colonnes\n",
    "t(summarytools::descr(fertility)[\"Mean\",])"
   ]
  },
  {
   "cell_type": "markdown",
   "metadata": {},
   "source": [
    "On voit ici que tout semble opposer l'Espagne et l'Albanie. L'Espagne a tendance à avoir des valeurs faibles pour les variables X15.19, X20.24 et X25.29 là où l'Albanie enregistre de forte valeurs, et similairement l'Espagne semble avoir des valeurs plus élevées pour X30.34, X35-39, X40.  \n",
    "La Croatie qui se situe au près du barycentre a des valeurs proches de la moyenne des colonnes.\n",
    "## Comment comprendre le graphique des individus?\n",
    "L'interprétation du graphique des individus se fait en ayant en tête le cercle des corrélations (graphique des variables). Sur l'axe 1 les pays situés à droite sont les pays dans lesquels la fertilité des femmes de plus de 30 ans est la plus élévée et inversement pour les pays situés à gauche."
   ]
  },
  {
   "cell_type": "markdown",
   "metadata": {},
   "source": [
    "## Influence des variables et des individus"
   ]
  },
  {
   "cell_type": "markdown",
   "metadata": {},
   "source": [
    "### Influence des variables"
   ]
  },
  {
   "cell_type": "markdown",
   "metadata": {},
   "source": [
    "Dans cette section, il est question d'examiner les coordonnées des individus et des variables pour voir celles qui contribuent à la définition des axes, autrement y a-t-il des variables ou des individus sur-représentées dans la précédente analyse?"
   ]
  },
  {
   "cell_type": "code",
   "execution_count": 23,
   "metadata": {},
   "outputs": [
    {
     "data": {
      "text/html": [
       "<table>\n",
       "<thead><tr><th></th><th scope=col>Dim.1</th><th scope=col>Dim.2</th></tr></thead>\n",
       "<tbody>\n",
       "\t<tr><th scope=row>X15.19</th><td>18.66806198 </td><td> 0.042332761</td></tr>\n",
       "\t<tr><th scope=row>X20.24</th><td>14.31907798 </td><td>20.899108658</td></tr>\n",
       "\t<tr><th scope=row>X25.29</th><td> 0.04641997 </td><td>70.412919869</td></tr>\n",
       "\t<tr><th scope=row>X30.34</th><td>22.28022806 </td><td> 8.591130345</td></tr>\n",
       "\t<tr><th scope=row>X35.39</th><td>23.98076041 </td><td> 0.049487266</td></tr>\n",
       "\t<tr><th scope=row>X40.et..</th><td>20.70545160 </td><td> 0.005021103</td></tr>\n",
       "</tbody>\n",
       "</table>\n"
      ],
      "text/latex": [
       "\\begin{tabular}{r|ll}\n",
       "  & Dim.1 & Dim.2\\\\\n",
       "\\hline\n",
       "\tX15.19 & 18.66806198  &  0.042332761\\\\\n",
       "\tX20.24 & 14.31907798  & 20.899108658\\\\\n",
       "\tX25.29 &  0.04641997  & 70.412919869\\\\\n",
       "\tX30.34 & 22.28022806  &  8.591130345\\\\\n",
       "\tX35.39 & 23.98076041  &  0.049487266\\\\\n",
       "\tX40.et.. & 20.70545160  &  0.005021103\\\\\n",
       "\\end{tabular}\n"
      ],
      "text/markdown": [
       "\n",
       "| <!--/--> | Dim.1 | Dim.2 |\n",
       "|---|---|---|\n",
       "| X15.19 | 18.66806198  |  0.042332761 |\n",
       "| X20.24 | 14.31907798  | 20.899108658 |\n",
       "| X25.29 |  0.04641997  | 70.412919869 |\n",
       "| X30.34 | 22.28022806  |  8.591130345 |\n",
       "| X35.39 | 23.98076041  |  0.049487266 |\n",
       "| X40.et.. | 20.70545160  |  0.005021103 |\n",
       "\n"
      ],
      "text/plain": [
       "         Dim.1       Dim.2       \n",
       "X15.19   18.66806198  0.042332761\n",
       "X20.24   14.31907798 20.899108658\n",
       "X25.29    0.04641997 70.412919869\n",
       "X30.34   22.28022806  8.591130345\n",
       "X35.39   23.98076041  0.049487266\n",
       "X40.et.. 20.70545160  0.005021103"
      ]
     },
     "metadata": {},
     "output_type": "display_data"
    }
   ],
   "source": [
    "acp$var$contrib[, c(\"Dim.1\", \"Dim.2\")]"
   ]
  },
  {
   "cell_type": "markdown",
   "metadata": {},
   "source": [
    "Ce tableau nous montre la contribution des variables dans la définition des 2 axes. L'axe 1 est bien équilibrée car la contribution des variables est bien proportionnée, aucune variable n'est sur-représentée. Ce constat n'est pas valide pour la dimension 2 car la variable X25-29 semble sur-représentée avec 70% de la contribution à la définition de l'axe 2."
   ]
  },
  {
   "cell_type": "markdown",
   "metadata": {},
   "source": [
    "### Influence des individus"
   ]
  },
  {
   "cell_type": "markdown",
   "metadata": {},
   "source": [
    "Quelles sont les individus qui influencent les plus les résultats de l'ACP? Nous chercherons pour axe les pays qui ont les plus d'impacts dans la construction de chacune des axes."
   ]
  },
  {
   "cell_type": "markdown",
   "metadata": {},
   "source": [
    "#### Première axe "
   ]
  },
  {
   "cell_type": "code",
   "execution_count": 24,
   "metadata": {},
   "outputs": [],
   "source": [
    "individus <- acp$ind$contrib[, c(\"Dim.1\", \"Dim.2\")] %>% data.frame"
   ]
  },
  {
   "cell_type": "code",
   "execution_count": 25,
   "metadata": {},
   "outputs": [],
   "source": [
    "options(scipen = 99) #Les décimales après la virgule"
   ]
  },
  {
   "cell_type": "code",
   "execution_count": 26,
   "metadata": {},
   "outputs": [
    {
     "data": {
      "text/html": [
       "<table>\n",
       "<thead><tr><th></th><th scope=col>Dim.1</th></tr></thead>\n",
       "<tbody>\n",
       "\t<tr><th scope=row>Ireland</th><td>11.828437</td></tr>\n",
       "\t<tr><th scope=row>Moldova</th><td> 8.489856</td></tr>\n",
       "\t<tr><th scope=row>Bulgaria</th><td> 7.816444</td></tr>\n",
       "\t<tr><th scope=row>Ukraine</th><td> 7.277283</td></tr>\n",
       "\t<tr><th scope=row>Romania</th><td> 6.452351</td></tr>\n",
       "\t<tr><th scope=row>Albania</th><td> 5.742210</td></tr>\n",
       "</tbody>\n",
       "</table>\n"
      ],
      "text/latex": [
       "\\begin{tabular}{r|l}\n",
       "  & Dim.1\\\\\n",
       "\\hline\n",
       "\tIreland & 11.828437\\\\\n",
       "\tMoldova &  8.489856\\\\\n",
       "\tBulgaria &  7.816444\\\\\n",
       "\tUkraine &  7.277283\\\\\n",
       "\tRomania &  6.452351\\\\\n",
       "\tAlbania &  5.742210\\\\\n",
       "\\end{tabular}\n"
      ],
      "text/markdown": [
       "\n",
       "| <!--/--> | Dim.1 |\n",
       "|---|---|\n",
       "| Ireland | 11.828437 |\n",
       "| Moldova |  8.489856 |\n",
       "| Bulgaria |  7.816444 |\n",
       "| Ukraine |  7.277283 |\n",
       "| Romania |  6.452351 |\n",
       "| Albania |  5.742210 |\n",
       "\n"
      ],
      "text/plain": [
       "         Dim.1    \n",
       "Ireland  11.828437\n",
       "Moldova   8.489856\n",
       "Bulgaria  7.816444\n",
       "Ukraine   7.277283\n",
       "Romania   6.452351\n",
       "Albania   5.742210"
      ]
     },
     "metadata": {},
     "output_type": "display_data"
    }
   ],
   "source": [
    "individus[order(individus$Dim.1, decreasing = T),][\"Dim.1\"] %>% head()"
   ]
  },
  {
   "cell_type": "code",
   "execution_count": 27,
   "metadata": {},
   "outputs": [
    {
     "data": {
      "text/html": [
       "47.6065807477098"
      ],
      "text/latex": [
       "47.6065807477098"
      ],
      "text/markdown": [
       "47.6065807477098"
      ],
      "text/plain": [
       "[1] 47.60658"
      ]
     },
     "metadata": {},
     "output_type": "display_data"
    }
   ],
   "source": [
    "sum(individus[order(individus$Dim.1, decreasing = T),][\"Dim.1\"] %>% head())"
   ]
  },
  {
   "cell_type": "markdown",
   "metadata": {},
   "source": [
    "Ces individus sont les mieux représentés sur l'axe. A eux seuls ils contribuent à hauteur de 47% à la construction de l'axe 1."
   ]
  },
  {
   "cell_type": "markdown",
   "metadata": {},
   "source": [
    "#### La deuxième axe"
   ]
  },
  {
   "cell_type": "code",
   "execution_count": 28,
   "metadata": {},
   "outputs": [
    {
     "data": {
      "text/html": [
       "<table>\n",
       "<thead><tr><th></th><th scope=col>Dim.2</th></tr></thead>\n",
       "<tbody>\n",
       "\t<tr><th scope=row>Spain</th><td>13.110490</td></tr>\n",
       "\t<tr><th scope=row>Albania</th><td>11.182419</td></tr>\n",
       "\t<tr><th scope=row>France</th><td> 9.910815</td></tr>\n",
       "\t<tr><th scope=row>Portugal</th><td> 6.634490</td></tr>\n",
       "\t<tr><th scope=row>Belgium</th><td> 5.642806</td></tr>\n",
       "\t<tr><th scope=row>Italy</th><td> 5.438278</td></tr>\n",
       "</tbody>\n",
       "</table>\n"
      ],
      "text/latex": [
       "\\begin{tabular}{r|l}\n",
       "  & Dim.2\\\\\n",
       "\\hline\n",
       "\tSpain & 13.110490\\\\\n",
       "\tAlbania & 11.182419\\\\\n",
       "\tFrance &  9.910815\\\\\n",
       "\tPortugal &  6.634490\\\\\n",
       "\tBelgium &  5.642806\\\\\n",
       "\tItaly &  5.438278\\\\\n",
       "\\end{tabular}\n"
      ],
      "text/markdown": [
       "\n",
       "| <!--/--> | Dim.2 |\n",
       "|---|---|\n",
       "| Spain | 13.110490 |\n",
       "| Albania | 11.182419 |\n",
       "| France |  9.910815 |\n",
       "| Portugal |  6.634490 |\n",
       "| Belgium |  5.642806 |\n",
       "| Italy |  5.438278 |\n",
       "\n"
      ],
      "text/plain": [
       "         Dim.2    \n",
       "Spain    13.110490\n",
       "Albania  11.182419\n",
       "France    9.910815\n",
       "Portugal  6.634490\n",
       "Belgium   5.642806\n",
       "Italy     5.438278"
      ]
     },
     "metadata": {},
     "output_type": "display_data"
    }
   ],
   "source": [
    "individus[order(individus$Dim.2, decreasing = T),][\"Dim.2\"] %>% head()"
   ]
  },
  {
   "cell_type": "code",
   "execution_count": 29,
   "metadata": {},
   "outputs": [
    {
     "data": {
      "text/html": [
       "51.9192973349872"
      ],
      "text/latex": [
       "51.9192973349872"
      ],
      "text/markdown": [
       "51.9192973349872"
      ],
      "text/plain": [
       "[1] 51.9193"
      ]
     },
     "metadata": {},
     "output_type": "display_data"
    }
   ],
   "source": [
    "sum(individus[order(individus$Dim.2, decreasing = T),][\"Dim.2\"] %>% head())"
   ]
  },
  {
   "cell_type": "markdown",
   "metadata": {},
   "source": [
    "Ici ces 6 individus contribuent à hauteur de 52% à la définition de l'axe 2."
   ]
  },
  {
   "cell_type": "markdown",
   "metadata": {},
   "source": [
    "# Classification ascendante hiérarchique (CAH)"
   ]
  },
  {
   "cell_type": "markdown",
   "metadata": {},
   "source": [
    "Nous voulons maintenant classer les individus en fonction de leurs ressemblances dans des clusters. C'est ce que nous permet de faire l'algorithme de la classification ascendante hiérarchique."
   ]
  },
  {
   "cell_type": "code",
   "execution_count": 30,
   "metadata": {},
   "outputs": [],
   "source": [
    "cluster <- HCPC(res= acp, nb.clust = 5)"
   ]
  },
  {
   "cell_type": "code",
   "execution_count": 31,
   "metadata": {},
   "outputs": [
    {
     "data": {
      "text/html": [
       "<table>\n",
       "<thead><tr><th></th><th scope=col>X15.19</th><th scope=col>X20.24</th><th scope=col>X25.29</th><th scope=col>X30.34</th><th scope=col>X35.39</th><th scope=col>X40.et..</th><th scope=col>Area</th><th scope=col>clust</th></tr></thead>\n",
       "<tbody>\n",
       "\t<tr><th scope=row>Albania</th><td>20.8 </td><td>107.1</td><td>126.7</td><td> 72.3</td><td>24.4 </td><td>5.5  </td><td>South</td><td>1    </td></tr>\n",
       "\t<tr><th scope=row>Austria</th><td> 8.6 </td><td> 44.5</td><td> 89.2</td><td> 94.6</td><td>46.8 </td><td>9.6  </td><td>West </td><td>3    </td></tr>\n",
       "\t<tr><th scope=row>Belarus</th><td>21.4 </td><td> 90.4</td><td>106.7</td><td> 67.6</td><td>26.0 </td><td>4.4  </td><td>East </td><td>1    </td></tr>\n",
       "\t<tr><th scope=row>Belgium</th><td> 9.0 </td><td> 52.6</td><td>127.0</td><td>116.6</td><td>48.3 </td><td>9.6  </td><td>West </td><td>4    </td></tr>\n",
       "\t<tr><th scope=row>Bosnia and Herzegovina</th><td>11.0 </td><td> 52.5</td><td> 91.8</td><td> 69.7</td><td>25.7 </td><td>4.7  </td><td>South</td><td>2    </td></tr>\n",
       "\t<tr><th scope=row>Bulgaria</th><td>42.1 </td><td> 71.9</td><td> 90.9</td><td> 67.1</td><td>27.2 </td><td>4.7  </td><td>East </td><td>1    </td></tr>\n",
       "</tbody>\n",
       "</table>\n"
      ],
      "text/latex": [
       "\\begin{tabular}{r|llllllll}\n",
       "  & X15.19 & X20.24 & X25.29 & X30.34 & X35.39 & X40.et.. & Area & clust\\\\\n",
       "\\hline\n",
       "\tAlbania & 20.8  & 107.1 & 126.7 &  72.3 & 24.4  & 5.5   & South & 1    \\\\\n",
       "\tAustria &  8.6  &  44.5 &  89.2 &  94.6 & 46.8  & 9.6   & West  & 3    \\\\\n",
       "\tBelarus & 21.4  &  90.4 & 106.7 &  67.6 & 26.0  & 4.4   & East  & 1    \\\\\n",
       "\tBelgium &  9.0  &  52.6 & 127.0 & 116.6 & 48.3  & 9.6   & West  & 4    \\\\\n",
       "\tBosnia and Herzegovina & 11.0  &  52.5 &  91.8 &  69.7 & 25.7  & 4.7   & South & 2    \\\\\n",
       "\tBulgaria & 42.1  &  71.9 &  90.9 &  67.1 & 27.2  & 4.7   & East  & 1    \\\\\n",
       "\\end{tabular}\n"
      ],
      "text/markdown": [
       "\n",
       "| <!--/--> | X15.19 | X20.24 | X25.29 | X30.34 | X35.39 | X40.et.. | Area | clust |\n",
       "|---|---|---|---|---|---|---|---|---|\n",
       "| Albania | 20.8  | 107.1 | 126.7 |  72.3 | 24.4  | 5.5   | South | 1     |\n",
       "| Austria |  8.6  |  44.5 |  89.2 |  94.6 | 46.8  | 9.6   | West  | 3     |\n",
       "| Belarus | 21.4  |  90.4 | 106.7 |  67.6 | 26.0  | 4.4   | East  | 1     |\n",
       "| Belgium |  9.0  |  52.6 | 127.0 | 116.6 | 48.3  | 9.6   | West  | 4     |\n",
       "| Bosnia and Herzegovina | 11.0  |  52.5 |  91.8 |  69.7 | 25.7  | 4.7   | South | 2     |\n",
       "| Bulgaria | 42.1  |  71.9 |  90.9 |  67.1 | 27.2  | 4.7   | East  | 1     |\n",
       "\n"
      ],
      "text/plain": [
       "                       X15.19 X20.24 X25.29 X30.34 X35.39 X40.et.. Area  clust\n",
       "Albania                20.8   107.1  126.7   72.3  24.4   5.5      South 1    \n",
       "Austria                 8.6    44.5   89.2   94.6  46.8   9.6      West  3    \n",
       "Belarus                21.4    90.4  106.7   67.6  26.0   4.4      East  1    \n",
       "Belgium                 9.0    52.6  127.0  116.6  48.3   9.6      West  4    \n",
       "Bosnia and Herzegovina 11.0    52.5   91.8   69.7  25.7   4.7      South 2    \n",
       "Bulgaria               42.1    71.9   90.9   67.1  27.2   4.7      East  1    "
      ]
     },
     "metadata": {},
     "output_type": "display_data"
    }
   ],
   "source": [
    "cluster$data.clust %>% head()"
   ]
  },
  {
   "cell_type": "markdown",
   "metadata": {},
   "source": [
    "Nous avons une copie de notre base de donnée"
   ]
  },
  {
   "cell_type": "markdown",
   "metadata": {},
   "source": [
    "## Gain d'inertie"
   ]
  },
  {
   "cell_type": "code",
   "execution_count": 32,
   "metadata": {},
   "outputs": [
    {
     "data": {
      "image/png": "[encoded data removed]",
      "text/plain": [
       "Plot with title \"Inter-cluster inertia gains\""
      ]
     },
     "metadata": {},
     "output_type": "display_data"
    }
   ],
   "source": [
    "plot.HCPC(cluster, choice = \"bar\")"
   ]
  },
  {
   "cell_type": "markdown",
   "metadata": {},
   "source": [
    "Ce graphique nous montre le gain d'inertie associé à l'ajout d'un cluster supplémentaire. Nous observons sur ce graphique qu'au delà de 4 clusters le gain d'inertie n'est plus significatif. Essayons d'abord de voir la proportion des individus dans chaque cluster"
   ]
  },
  {
   "cell_type": "code",
   "execution_count": 33,
   "metadata": {},
   "outputs": [
    {
     "data": {
      "text/html": [
       "<table>\n",
       "<thead><tr><th scope=col>clust</th><th scope=col>nombre_individus</th></tr></thead>\n",
       "<tbody>\n",
       "\t<tr><td>1 </td><td> 8</td></tr>\n",
       "\t<tr><td>2 </td><td>12</td></tr>\n",
       "\t<tr><td>3 </td><td> 8</td></tr>\n",
       "\t<tr><td>4 </td><td>10</td></tr>\n",
       "\t<tr><td>5 </td><td> 1</td></tr>\n",
       "</tbody>\n",
       "</table>\n"
      ],
      "text/latex": [
       "\\begin{tabular}{r|ll}\n",
       " clust & nombre\\_individus\\\\\n",
       "\\hline\n",
       "\t 1  &  8\\\\\n",
       "\t 2  & 12\\\\\n",
       "\t 3  &  8\\\\\n",
       "\t 4  & 10\\\\\n",
       "\t 5  &  1\\\\\n",
       "\\end{tabular}\n"
      ],
      "text/markdown": [
       "\n",
       "| clust | nombre_individus |\n",
       "|---|---|\n",
       "| 1  |  8 |\n",
       "| 2  | 12 |\n",
       "| 3  |  8 |\n",
       "| 4  | 10 |\n",
       "| 5  |  1 |\n",
       "\n"
      ],
      "text/plain": [
       "  clust nombre_individus\n",
       "1 1      8              \n",
       "2 2     12              \n",
       "3 3      8              \n",
       "4 4     10              \n",
       "5 5      1              "
      ]
     },
     "metadata": {},
     "output_type": "display_data"
    }
   ],
   "source": [
    "cluster$data.clust %>% group_by(clust) %>% summarize(nombre_individus = n())"
   ]
  },
  {
   "cell_type": "markdown",
   "metadata": {},
   "source": [
    "Nous voyons que le cluster 1 ne compte qu'un seul pays, donc le graphique précédent nous a donné une bonne indication, il faudrait réduire le nombre de clusters à 4 pour être plus efficient."
   ]
  },
  {
   "cell_type": "code",
   "execution_count": 34,
   "metadata": {},
   "outputs": [],
   "source": [
    "cluster_2 <- HCPC(res = acp, nb.clust = 4)"
   ]
  },
  {
   "cell_type": "code",
   "execution_count": 35,
   "metadata": {},
   "outputs": [
    {
     "data": {
      "image/png": "[encoded data removed]",
      "text/plain": [
       "Plot with title \"Inter-cluster inertia gains\""
      ]
     },
     "metadata": {},
     "output_type": "display_data"
    }
   ],
   "source": [
    "plot.HCPC(cluster_2, choice = \"bar\")"
   ]
  },
  {
   "cell_type": "code",
   "execution_count": 36,
   "metadata": {},
   "outputs": [
    {
     "data": {
      "text/html": [
       "<table>\n",
       "<thead><tr><th scope=col>clust</th><th scope=col>nombre_individus</th></tr></thead>\n",
       "<tbody>\n",
       "\t<tr><td>1 </td><td> 8</td></tr>\n",
       "\t<tr><td>2 </td><td>14</td></tr>\n",
       "\t<tr><td>3 </td><td> 7</td></tr>\n",
       "\t<tr><td>4 </td><td>10</td></tr>\n",
       "</tbody>\n",
       "</table>\n"
      ],
      "text/latex": [
       "\\begin{tabular}{r|ll}\n",
       " clust & nombre\\_individus\\\\\n",
       "\\hline\n",
       "\t 1  &  8\\\\\n",
       "\t 2  & 14\\\\\n",
       "\t 3  &  7\\\\\n",
       "\t 4  & 10\\\\\n",
       "\\end{tabular}\n"
      ],
      "text/markdown": [
       "\n",
       "| clust | nombre_individus |\n",
       "|---|---|\n",
       "| 1  |  8 |\n",
       "| 2  | 14 |\n",
       "| 3  |  7 |\n",
       "| 4  | 10 |\n",
       "\n"
      ],
      "text/plain": [
       "  clust nombre_individus\n",
       "1 1      8              \n",
       "2 2     14              \n",
       "3 3      7              \n",
       "4 4     10              "
      ]
     },
     "metadata": {},
     "output_type": "display_data"
    }
   ],
   "source": [
    "cluster_2$data.clust %>% group_by(clust) %>% summarize(nombre_individus = n())"
   ]
  },
  {
   "cell_type": "markdown",
   "metadata": {},
   "source": [
    "Le classement est beaucoup plus équilibré avec 4 clusters. "
   ]
  },
  {
   "cell_type": "markdown",
   "metadata": {},
   "source": [
    "## Etude des cluster\n",
    "On se donne maintenant la tâche d'étudier les clusters afin de comprendre les différences entre entre clusters et les similitudes entre les individus regroupés ensemble."
   ]
  },
  {
   "cell_type": "code",
   "execution_count": 37,
   "metadata": {},
   "outputs": [
    {
     "data": {
      "image/png": "[encoded data removed]",
      "text/plain": [
       "Plot with title \"Factor map\""
      ]
     },
     "metadata": {},
     "output_type": "display_data"
    }
   ],
   "source": [
    "plot.HCPC(cluster_2, choice = \"map\")"
   ]
  },
  {
   "cell_type": "markdown",
   "metadata": {},
   "source": [
    "## Caractéristiques des clusters"
   ]
  },
  {
   "cell_type": "markdown",
   "metadata": {},
   "source": [
    "### Cluster 1"
   ]
  },
  {
   "cell_type": "code",
   "execution_count": 38,
   "metadata": {},
   "outputs": [
    {
     "data": {
      "text/html": [
       "<table>\n",
       "<thead><tr><th></th><th scope=col>v.test</th><th scope=col>Mean in category</th><th scope=col>Overall mean</th><th scope=col>sd in category</th><th scope=col>Overall sd</th><th scope=col>p.value</th></tr></thead>\n",
       "<tbody>\n",
       "\t<tr><th scope=row>X20.24</th><td> 4.871131     </td><td>84.0250       </td><td>55.348718     </td><td>11.855774     </td><td>18.435249     </td><td>0.000001109614</td></tr>\n",
       "\t<tr><th scope=row>X15.19</th><td> 4.739694     </td><td>27.6500       </td><td>14.333333     </td><td> 7.642153     </td><td> 8.798349     </td><td>0.000002140412</td></tr>\n",
       "\t<tr><th scope=row>X40.et..</th><td>-3.412325     </td><td> 5.0250       </td><td> 9.533333     </td><td> 0.907951     </td><td> 4.137343     </td><td>0.000644111719</td></tr>\n",
       "\t<tr><th scope=row>X35.39</th><td>-3.692305     </td><td>26.4875       </td><td>45.197436     </td><td> 3.608822     </td><td>15.868312     </td><td>0.000222231138</td></tr>\n",
       "\t<tr><th scope=row>X30.34</th><td>-3.911592     </td><td>65.7375       </td><td>93.843590     </td><td> 8.906730     </td><td>22.501052     </td><td>0.000091689697</td></tr>\n",
       "</tbody>\n",
       "</table>\n"
      ],
      "text/latex": [
       "\\begin{tabular}{r|llllll}\n",
       "  & v.test & Mean in category & Overall mean & sd in category & Overall sd & p.value\\\\\n",
       "\\hline\n",
       "\tX20.24 &  4.871131      & 84.0250        & 55.348718      & 11.855774      & 18.435249      & 0.000001109614\\\\\n",
       "\tX15.19 &  4.739694      & 27.6500        & 14.333333      &  7.642153      &  8.798349      & 0.000002140412\\\\\n",
       "\tX40.et.. & -3.412325      &  5.0250        &  9.533333      &  0.907951      &  4.137343      & 0.000644111719\\\\\n",
       "\tX35.39 & -3.692305      & 26.4875        & 45.197436      &  3.608822      & 15.868312      & 0.000222231138\\\\\n",
       "\tX30.34 & -3.911592      & 65.7375        & 93.843590      &  8.906730      & 22.501052      & 0.000091689697\\\\\n",
       "\\end{tabular}\n"
      ],
      "text/markdown": [
       "\n",
       "| <!--/--> | v.test | Mean in category | Overall mean | sd in category | Overall sd | p.value |\n",
       "|---|---|---|---|---|---|---|\n",
       "| X20.24 |  4.871131      | 84.0250        | 55.348718      | 11.855774      | 18.435249      | 0.000001109614 |\n",
       "| X15.19 |  4.739694      | 27.6500        | 14.333333      |  7.642153      |  8.798349      | 0.000002140412 |\n",
       "| X40.et.. | -3.412325      |  5.0250        |  9.533333      |  0.907951      |  4.137343      | 0.000644111719 |\n",
       "| X35.39 | -3.692305      | 26.4875        | 45.197436      |  3.608822      | 15.868312      | 0.000222231138 |\n",
       "| X30.34 | -3.911592      | 65.7375        | 93.843590      |  8.906730      | 22.501052      | 0.000091689697 |\n",
       "\n"
      ],
      "text/plain": [
       "         v.test    Mean in category Overall mean sd in category Overall sd\n",
       "X20.24    4.871131 84.0250          55.348718    11.855774      18.435249 \n",
       "X15.19    4.739694 27.6500          14.333333     7.642153       8.798349 \n",
       "X40.et.. -3.412325  5.0250           9.533333     0.907951       4.137343 \n",
       "X35.39   -3.692305 26.4875          45.197436     3.608822      15.868312 \n",
       "X30.34   -3.911592 65.7375          93.843590     8.906730      22.501052 \n",
       "         p.value       \n",
       "X20.24   0.000001109614\n",
       "X15.19   0.000002140412\n",
       "X40.et.. 0.000644111719\n",
       "X35.39   0.000222231138\n",
       "X30.34   0.000091689697"
      ]
     },
     "metadata": {},
     "output_type": "display_data"
    }
   ],
   "source": [
    "cluster_2$desc.var$quanti$\"1\""
   ]
  },
  {
   "cell_type": "markdown",
   "metadata": {},
   "source": [
    "Les pays du cluster 1 sont caractérisés par une fertilité des femmes de 15 à 24 supérieure aux autres pays. En moyenne la fertilité des femmes de cette tranche d'âge est de 84 alors que la moyenne générale est de 55.  \n",
    "Par effet inverse la fertilité des femmes de plus de 30 ans est relativement faible que dans les autres pays. Les pays qui caractérisent ce cluster sont :"
   ]
  },
  {
   "cell_type": "code",
   "execution_count": 39,
   "metadata": {},
   "outputs": [
    {
     "data": {
      "text/html": [
       "<dl class=dl-horizontal>\n",
       "\t<dt>Ukraine</dt>\n",
       "\t\t<dd>0.689737008366458</dd>\n",
       "\t<dt>Russia</dt>\n",
       "\t\t<dd>0.826626850576947</dd>\n",
       "\t<dt>Belarus</dt>\n",
       "\t\t<dd>0.938331050874943</dd>\n",
       "\t<dt>Macedonia</dt>\n",
       "\t\t<dd>1.30786149412495</dd>\n",
       "\t<dt>Romania</dt>\n",
       "\t\t<dd>1.42674483831148</dd>\n",
       "</dl>\n"
      ],
      "text/latex": [
       "\\begin{description*}\n",
       "\\item[Ukraine] 0.689737008366458\n",
       "\\item[Russia] 0.826626850576947\n",
       "\\item[Belarus] 0.938331050874943\n",
       "\\item[Macedonia] 1.30786149412495\n",
       "\\item[Romania] 1.42674483831148\n",
       "\\end{description*}\n"
      ],
      "text/markdown": [
       "Ukraine\n",
       ":   0.689737008366458Russia\n",
       ":   0.826626850576947Belarus\n",
       ":   0.938331050874943Macedonia\n",
       ":   1.30786149412495Romania\n",
       ":   1.42674483831148\n",
       "\n"
      ],
      "text/plain": [
       "  Ukraine    Russia   Belarus Macedonia   Romania \n",
       "0.6897370 0.8266269 0.9383311 1.3078615 1.4267448 "
      ]
     },
     "metadata": {},
     "output_type": "display_data"
    }
   ],
   "source": [
    "cluster_2$desc.ind$para$\"1\""
   ]
  },
  {
   "cell_type": "markdown",
   "metadata": {},
   "source": [
    "### Cluster 2"
   ]
  },
  {
   "cell_type": "code",
   "execution_count": 40,
   "metadata": {},
   "outputs": [
    {
     "data": {
      "text/html": [
       "<table>\n",
       "<thead><tr><th></th><th scope=col>v.test</th><th scope=col>Mean in category</th><th scope=col>Overall mean</th><th scope=col>sd in category</th><th scope=col>Overall sd</th><th scope=col>p.value</th></tr></thead>\n",
       "<tbody>\n",
       "\t<tr><th scope=row>X35.39</th><td>-1.994749</td><td>38.33571 </td><td>45.19744 </td><td>5.78787  </td><td>15.86831 </td><td>0.0460703</td></tr>\n",
       "</tbody>\n",
       "</table>\n"
      ],
      "text/latex": [
       "\\begin{tabular}{r|llllll}\n",
       "  & v.test & Mean in category & Overall mean & sd in category & Overall sd & p.value\\\\\n",
       "\\hline\n",
       "\tX35.39 & -1.994749 & 38.33571  & 45.19744  & 5.78787   & 15.86831  & 0.0460703\\\\\n",
       "\\end{tabular}\n"
      ],
      "text/markdown": [
       "\n",
       "| <!--/--> | v.test | Mean in category | Overall mean | sd in category | Overall sd | p.value |\n",
       "|---|---|---|---|---|---|---|\n",
       "| X35.39 | -1.994749 | 38.33571  | 45.19744  | 5.78787   | 15.86831  | 0.0460703 |\n",
       "\n"
      ],
      "text/plain": [
       "       v.test    Mean in category Overall mean sd in category Overall sd\n",
       "X35.39 -1.994749 38.33571         45.19744     5.78787        15.86831  \n",
       "       p.value  \n",
       "X35.39 0.0460703"
      ]
     },
     "metadata": {},
     "output_type": "display_data"
    }
   ],
   "source": [
    "cluster_2$desc.var$quanti$\"2\""
   ]
  },
  {
   "cell_type": "markdown",
   "metadata": {},
   "source": [
    "Les pays qui sont dans ce cluster ne se distinguent des autres pays que par la fertilité des femmes des 35 à 39 relativement plus faible que la moyenne des autres. Les pays qui caractérisent ce cluster sont :"
   ]
  },
  {
   "cell_type": "code",
   "execution_count": 41,
   "metadata": {},
   "outputs": [
    {
     "data": {
      "text/html": [
       "<dl class=dl-horizontal>\n",
       "\t<dt>Croatia</dt>\n",
       "\t\t<dd>0.441189988156594</dd>\n",
       "\t<dt>Poland</dt>\n",
       "\t\t<dd>0.750448903336045</dd>\n",
       "\t<dt>Latvia</dt>\n",
       "\t\t<dd>0.864624236753571</dd>\n",
       "\t<dt>Rep. Czech</dt>\n",
       "\t\t<dd>0.920514950124321</dd>\n",
       "\t<dt>Estonia</dt>\n",
       "\t\t<dd>0.992402672777697</dd>\n",
       "</dl>\n"
      ],
      "text/latex": [
       "\\begin{description*}\n",
       "\\item[Croatia] 0.441189988156594\n",
       "\\item[Poland] 0.750448903336045\n",
       "\\item[Latvia] 0.864624236753571\n",
       "\\item[Rep. Czech] 0.920514950124321\n",
       "\\item[Estonia] 0.992402672777697\n",
       "\\end{description*}\n"
      ],
      "text/markdown": [
       "Croatia\n",
       ":   0.441189988156594Poland\n",
       ":   0.750448903336045Latvia\n",
       ":   0.864624236753571Rep. Czech\n",
       ":   0.920514950124321Estonia\n",
       ":   0.992402672777697\n",
       "\n"
      ],
      "text/plain": [
       "   Croatia     Poland     Latvia Rep. Czech    Estonia \n",
       " 0.4411900  0.7504489  0.8646242  0.9205150  0.9924027 "
      ]
     },
     "metadata": {},
     "output_type": "display_data"
    }
   ],
   "source": [
    "cluster_2$desc.ind$para$\"2\""
   ]
  },
  {
   "cell_type": "code",
   "execution_count": 42,
   "metadata": {},
   "outputs": [
    {
     "data": {
      "text/html": [
       "<table>\n",
       "<thead><tr><th></th><th scope=col>v.test</th><th scope=col>Mean in category</th><th scope=col>Overall mean</th><th scope=col>sd in category</th><th scope=col>Overall sd</th><th scope=col>p.value</th></tr></thead>\n",
       "<tbody>\n",
       "\t<tr><th scope=row>X40.et..</th><td> 2.047435   </td><td>12.471429   </td><td> 9.533333   </td><td>2.384901    </td><td> 4.137343   </td><td>0.0406153689</td></tr>\n",
       "\t<tr><th scope=row>X15.19</th><td>-2.154959   </td><td> 7.757143   </td><td>14.333333   </td><td>2.404078    </td><td> 8.798349   </td><td>0.0311650310</td></tr>\n",
       "\t<tr><th scope=row>X20.24</th><td>-3.247185   </td><td>34.585714   </td><td>55.348718   </td><td>3.771104    </td><td>18.435249   </td><td>0.0011655268</td></tr>\n",
       "\t<tr><th scope=row>X25.29</th><td>-3.851882   </td><td>74.828571   </td><td>97.271795   </td><td>8.196814    </td><td>16.798793   </td><td>0.0001172135</td></tr>\n",
       "</tbody>\n",
       "</table>\n"
      ],
      "text/latex": [
       "\\begin{tabular}{r|llllll}\n",
       "  & v.test & Mean in category & Overall mean & sd in category & Overall sd & p.value\\\\\n",
       "\\hline\n",
       "\tX40.et.. &  2.047435    & 12.471429    &  9.533333    & 2.384901     &  4.137343    & 0.0406153689\\\\\n",
       "\tX15.19 & -2.154959    &  7.757143    & 14.333333    & 2.404078     &  8.798349    & 0.0311650310\\\\\n",
       "\tX20.24 & -3.247185    & 34.585714    & 55.348718    & 3.771104     & 18.435249    & 0.0011655268\\\\\n",
       "\tX25.29 & -3.851882    & 74.828571    & 97.271795    & 8.196814     & 16.798793    & 0.0001172135\\\\\n",
       "\\end{tabular}\n"
      ],
      "text/markdown": [
       "\n",
       "| <!--/--> | v.test | Mean in category | Overall mean | sd in category | Overall sd | p.value |\n",
       "|---|---|---|---|---|---|---|\n",
       "| X40.et.. |  2.047435    | 12.471429    |  9.533333    | 2.384901     |  4.137343    | 0.0406153689 |\n",
       "| X15.19 | -2.154959    |  7.757143    | 14.333333    | 2.404078     |  8.798349    | 0.0311650310 |\n",
       "| X20.24 | -3.247185    | 34.585714    | 55.348718    | 3.771104     | 18.435249    | 0.0011655268 |\n",
       "| X25.29 | -3.851882    | 74.828571    | 97.271795    | 8.196814     | 16.798793    | 0.0001172135 |\n",
       "\n"
      ],
      "text/plain": [
       "         v.test    Mean in category Overall mean sd in category Overall sd\n",
       "X40.et..  2.047435 12.471429         9.533333    2.384901        4.137343 \n",
       "X15.19   -2.154959  7.757143        14.333333    2.404078        8.798349 \n",
       "X20.24   -3.247185 34.585714        55.348718    3.771104       18.435249 \n",
       "X25.29   -3.851882 74.828571        97.271795    8.196814       16.798793 \n",
       "         p.value     \n",
       "X40.et.. 0.0406153689\n",
       "X15.19   0.0311650310\n",
       "X20.24   0.0011655268\n",
       "X25.29   0.0001172135"
      ]
     },
     "metadata": {},
     "output_type": "display_data"
    }
   ],
   "source": [
    "cluster_2$desc.var$quanti$\"3\""
   ]
  },
  {
   "cell_type": "markdown",
   "metadata": {},
   "source": [
    "Ce qui caractérise les pays présents dans ce cluster c'est leur fertilité des femmes de plus 40 plus élévée que la moyenne des autres pays. Les moyennes des fertilités des femmes de 15 à 29 ans sont faibles comparé aux autres pays. Les pays caractéristiques de ce cluster sont :"
   ]
  },
  {
   "cell_type": "code",
   "execution_count": 43,
   "metadata": {},
   "outputs": [
    {
     "data": {
      "text/html": [
       "<dl class=dl-horizontal>\n",
       "\t<dt>Greece</dt>\n",
       "\t\t<dd>0.559213141015855</dd>\n",
       "\t<dt>Germany</dt>\n",
       "\t\t<dd>0.833195757525693</dd>\n",
       "\t<dt>luxembourg</dt>\n",
       "\t\t<dd>0.914814217056602</dd>\n",
       "\t<dt>Italy</dt>\n",
       "\t\t<dd>0.99461389438098</dd>\n",
       "\t<dt>Swiss</dt>\n",
       "\t\t<dd>1.04392232825817</dd>\n",
       "</dl>\n"
      ],
      "text/latex": [
       "\\begin{description*}\n",
       "\\item[Greece] 0.559213141015855\n",
       "\\item[Germany] 0.833195757525693\n",
       "\\item[luxembourg] 0.914814217056602\n",
       "\\item[Italy] 0.99461389438098\n",
       "\\item[Swiss] 1.04392232825817\n",
       "\\end{description*}\n"
      ],
      "text/markdown": [
       "Greece\n",
       ":   0.559213141015855Germany\n",
       ":   0.833195757525693luxembourg\n",
       ":   0.914814217056602Italy\n",
       ":   0.99461389438098Swiss\n",
       ":   1.04392232825817\n",
       "\n"
      ],
      "text/plain": [
       "    Greece    Germany luxembourg      Italy      Swiss \n",
       " 0.5592131  0.8331958  0.9148142  0.9946139  1.0439223 "
      ]
     },
     "metadata": {},
     "output_type": "display_data"
    }
   ],
   "source": [
    "cluster_2$desc.ind$para$\"3\""
   ]
  },
  {
   "cell_type": "markdown",
   "metadata": {},
   "source": [
    "### Cluster 4"
   ]
  },
  {
   "cell_type": "code",
   "execution_count": 44,
   "metadata": {},
   "outputs": [
    {
     "data": {
      "text/html": [
       "<table>\n",
       "<thead><tr><th></th><th scope=col>v.test</th><th scope=col>Mean in category</th><th scope=col>Overall mean</th><th scope=col>sd in category</th><th scope=col>Overall sd</th><th scope=col>p.value</th></tr></thead>\n",
       "<tbody>\n",
       "\t<tr><th scope=row>X30.34</th><td> 4.928649      </td><td>124.48         </td><td>93.843590      </td><td> 7.732632      </td><td>22.501052      </td><td>0.0000008280034</td></tr>\n",
       "\t<tr><th scope=row>X35.39</th><td> 4.020047      </td><td> 62.82         </td><td>45.197436      </td><td>12.756159      </td><td>15.868312      </td><td>0.0000581864498</td></tr>\n",
       "\t<tr><th scope=row>X40.et..</th><td> 3.453041      </td><td> 13.48         </td><td> 9.533333      </td><td> 3.957221      </td><td> 4.137343      </td><td>0.0005543049357</td></tr>\n",
       "\t<tr><th scope=row>X25.29</th><td> 3.404258      </td><td>113.07         </td><td>97.271795      </td><td>11.713159      </td><td>16.798793      </td><td>0.0006634407437</td></tr>\n",
       "\t<tr><th scope=row>X15.19</th><td>-2.416441      </td><td>  8.46         </td><td>14.333333      </td><td> 3.943653      </td><td> 8.798349      </td><td>0.0156730464208</td></tr>\n",
       "</tbody>\n",
       "</table>\n"
      ],
      "text/latex": [
       "\\begin{tabular}{r|llllll}\n",
       "  & v.test & Mean in category & Overall mean & sd in category & Overall sd & p.value\\\\\n",
       "\\hline\n",
       "\tX30.34 &  4.928649       & 124.48          & 93.843590       &  7.732632       & 22.501052       & 0.0000008280034\\\\\n",
       "\tX35.39 &  4.020047       &  62.82          & 45.197436       & 12.756159       & 15.868312       & 0.0000581864498\\\\\n",
       "\tX40.et.. &  3.453041       &  13.48          &  9.533333       &  3.957221       &  4.137343       & 0.0005543049357\\\\\n",
       "\tX25.29 &  3.404258       & 113.07          & 97.271795       & 11.713159       & 16.798793       & 0.0006634407437\\\\\n",
       "\tX15.19 & -2.416441       &   8.46          & 14.333333       &  3.943653       &  8.798349       & 0.0156730464208\\\\\n",
       "\\end{tabular}\n"
      ],
      "text/markdown": [
       "\n",
       "| <!--/--> | v.test | Mean in category | Overall mean | sd in category | Overall sd | p.value |\n",
       "|---|---|---|---|---|---|---|\n",
       "| X30.34 |  4.928649       | 124.48          | 93.843590       |  7.732632       | 22.501052       | 0.0000008280034 |\n",
       "| X35.39 |  4.020047       |  62.82          | 45.197436       | 12.756159       | 15.868312       | 0.0000581864498 |\n",
       "| X40.et.. |  3.453041       |  13.48          |  9.533333       |  3.957221       |  4.137343       | 0.0005543049357 |\n",
       "| X25.29 |  3.404258       | 113.07          | 97.271795       | 11.713159       | 16.798793       | 0.0006634407437 |\n",
       "| X15.19 | -2.416441       |   8.46          | 14.333333       |  3.943653       |  8.798349       | 0.0156730464208 |\n",
       "\n"
      ],
      "text/plain": [
       "         v.test    Mean in category Overall mean sd in category Overall sd\n",
       "X30.34    4.928649 124.48           93.843590     7.732632      22.501052 \n",
       "X35.39    4.020047  62.82           45.197436    12.756159      15.868312 \n",
       "X40.et..  3.453041  13.48            9.533333     3.957221       4.137343 \n",
       "X25.29    3.404258 113.07           97.271795    11.713159      16.798793 \n",
       "X15.19   -2.416441   8.46           14.333333     3.943653       8.798349 \n",
       "         p.value        \n",
       "X30.34   0.0000008280034\n",
       "X35.39   0.0000581864498\n",
       "X40.et.. 0.0005543049357\n",
       "X25.29   0.0006634407437\n",
       "X15.19   0.0156730464208"
      ]
     },
     "metadata": {},
     "output_type": "display_data"
    }
   ],
   "source": [
    "cluster_2$desc.var$quanti$\"4\""
   ]
  },
  {
   "cell_type": "markdown",
   "metadata": {},
   "source": [
    "Les pays qui se trouvent dans ce cluster ont une fertilité bien répartie sur toutes les catégories d'âge sauf les femmes de 15-19 qui ont une fertilité plus faible que la moyenne."
   ]
  },
  {
   "cell_type": "markdown",
   "metadata": {},
   "source": [
    "# Conclusion\n",
    "En conclusion, l'ACP est une méthode très puissante et largement utilisée dans tous les domaines qui traitent des données. Il n'est donc pas étonnant qu'en économie on l'utilise grandement pour étudier les caractéristiques économiques des pays, les disparités etc... Les variables synthétiques que produit une ACP rendent facile la compréhension et l'interprétation d'un jeu de donnée multidimensionnel"
   ]
  }
 ],
 "metadata": {
  "kernelspec": {
   "display_name": "R",
   "language": "R",
   "name": "ir"
  },
  "language_info": {
   "codemirror_mode": "r",
   "file_extension": ".r",
   "mimetype": "text/x-r-source",
   "name": "R",
   "pygments_lexer": "r",
   "version": "3.5.1"
  },
  "toc": {
   "base_numbering": 1,
   "nav_menu": {},
   "number_sections": true,
   "sideBar": true,
   "skip_h1_title": false,
   "title_cell": "Table of Contents",
   "title_sidebar": "Contents",
   "toc_cell": false,
   "toc_position": {},
   "toc_section_display": true,
   "toc_window_display": false
  }
 },
 "nbformat": 4,
 "nbformat_minor": 2
}
